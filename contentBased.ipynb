{
 "cells": [
  {
   "cell_type": "code",
   "execution_count": 26,
   "metadata": {},
   "outputs": [
    {
     "name": "stdout",
     "output_type": "stream",
     "text": [
      "Shape of dataframe:  (24107, 8)\n"
     ]
    },
    {
     "data": {
      "text/html": [
       "<div>\n",
       "<style scoped>\n",
       "    .dataframe tbody tr th:only-of-type {\n",
       "        vertical-align: middle;\n",
       "    }\n",
       "\n",
       "    .dataframe tbody tr th {\n",
       "        vertical-align: top;\n",
       "    }\n",
       "\n",
       "    .dataframe thead th {\n",
       "        text-align: right;\n",
       "    }\n",
       "</style>\n",
       "<table border=\"1\" class=\"dataframe\">\n",
       "  <thead>\n",
       "    <tr style=\"text-align: right;\">\n",
       "      <th></th>\n",
       "      <th>User-ID</th>\n",
       "      <th>Book-Rating</th>\n",
       "      <th>Book-Title</th>\n",
       "      <th>Book-Author</th>\n",
       "      <th>Year-Of-Publication</th>\n",
       "      <th>Publisher</th>\n",
       "      <th>Location</th>\n",
       "      <th>Age</th>\n",
       "    </tr>\n",
       "  </thead>\n",
       "  <tbody>\n",
       "    <tr>\n",
       "      <th>432024</th>\n",
       "      <td>170229</td>\n",
       "      <td>0</td>\n",
       "      <td>Amerikanisher briefen-shteler</td>\n",
       "      <td>Alexander Harkavy</td>\n",
       "      <td>1999</td>\n",
       "      <td>National Yiddish Book Center</td>\n",
       "      <td>chicago, illinois, usa</td>\n",
       "      <td>56</td>\n",
       "    </tr>\n",
       "    <tr>\n",
       "      <th>511002</th>\n",
       "      <td>222296</td>\n",
       "      <td>0</td>\n",
       "      <td>The Last Day of the War : A Novel</td>\n",
       "      <td>JUDITH CLAIRE MITCHELL</td>\n",
       "      <td>2004</td>\n",
       "      <td>Pantheon</td>\n",
       "      <td>chapel hill, north carolina, usa</td>\n",
       "      <td>34</td>\n",
       "    </tr>\n",
       "    <tr>\n",
       "      <th>188701</th>\n",
       "      <td>127233</td>\n",
       "      <td>0</td>\n",
       "      <td>The Politics of Disillusionment: The Chinese C...</td>\n",
       "      <td>Hsi-Sheng Chi</td>\n",
       "      <td>1990</td>\n",
       "      <td>M E Sharpe Inc</td>\n",
       "      <td>marietta, georgia, usa</td>\n",
       "      <td>29</td>\n",
       "    </tr>\n",
       "    <tr>\n",
       "      <th>1634</th>\n",
       "      <td>23768</td>\n",
       "      <td>0</td>\n",
       "      <td>Danny and the Dinosaur</td>\n",
       "      <td>Syd Hoff</td>\n",
       "      <td>1992</td>\n",
       "      <td>HarperTrophy</td>\n",
       "      <td>st. louis, missouri, usa</td>\n",
       "      <td>45</td>\n",
       "    </tr>\n",
       "    <tr>\n",
       "      <th>504325</th>\n",
       "      <td>181176</td>\n",
       "      <td>0</td>\n",
       "      <td>Feminine Mystique</td>\n",
       "      <td>Betty Friedan</td>\n",
       "      <td>1963</td>\n",
       "      <td>W W Norton &amp;amp; Co</td>\n",
       "      <td>st. louis, missouri, usa</td>\n",
       "      <td>43</td>\n",
       "    </tr>\n",
       "  </tbody>\n",
       "</table>\n",
       "</div>"
      ],
      "text/plain": [
       "        User-ID  Book-Rating  \\\n",
       "432024   170229            0   \n",
       "511002   222296            0   \n",
       "188701   127233            0   \n",
       "1634      23768            0   \n",
       "504325   181176            0   \n",
       "\n",
       "                                               Book-Title  \\\n",
       "432024                      Amerikanisher briefen-shteler   \n",
       "511002                  The Last Day of the War : A Novel   \n",
       "188701  The Politics of Disillusionment: The Chinese C...   \n",
       "1634                               Danny and the Dinosaur   \n",
       "504325                                  Feminine Mystique   \n",
       "\n",
       "                   Book-Author  Year-Of-Publication  \\\n",
       "432024       Alexander Harkavy                 1999   \n",
       "511002  JUDITH CLAIRE MITCHELL                 2004   \n",
       "188701           Hsi-Sheng Chi                 1990   \n",
       "1634                  Syd Hoff                 1992   \n",
       "504325           Betty Friedan                 1963   \n",
       "\n",
       "                           Publisher                          Location  Age  \n",
       "432024  National Yiddish Book Center            chicago, illinois, usa   56  \n",
       "511002                      Pantheon  chapel hill, north carolina, usa   34  \n",
       "188701                M E Sharpe Inc            marietta, georgia, usa   29  \n",
       "1634                    HarperTrophy          st. louis, missouri, usa   45  \n",
       "504325           W W Norton &amp; Co          st. louis, missouri, usa   43  "
      ]
     },
     "execution_count": 26,
     "metadata": {},
     "output_type": "execute_result"
    }
   ],
   "source": [
    "import pandas as pd\n",
    "import numpy as np\n",
    "from tensorflow.keras.models import Sequential\n",
    "from tensorflow.keras.layers import Dense\n",
    "from sklearn.feature_extraction.text import TfidfVectorizer\n",
    "from sklearn.model_selection import train_test_split\n",
    "from keras.callbacks import EarlyStopping\n",
    "\n",
    "dataframe = pd.read_csv('data/processed.csv')\n",
    "\n",
    "dataframe = dataframe.drop_duplicates(subset=['Book-Title'], keep='first')\n",
    "dataframe = dataframe.sample(frac=0.1, random_state=1)\n",
    "\n",
    "print(\"Shape of dataframe: \", dataframe.shape)\n",
    "dataframe.head()"
   ]
  },
  {
   "cell_type": "code",
   "execution_count": 27,
   "metadata": {},
   "outputs": [
    {
     "name": "stdout",
     "output_type": "stream",
     "text": [
      "Epoch 1/50\n",
      "603/603 [==============================] - 3s 5ms/step - loss: 4.3444e-05\n",
      "Epoch 2/50\n",
      "603/603 [==============================] - 3s 5ms/step - loss: 4.3493e-05\n",
      "Epoch 3/50\n",
      "603/603 [==============================] - 3s 5ms/step - loss: 4.3508e-05\n",
      "Epoch 4/50\n",
      "603/603 [==============================] - 3s 5ms/step - loss: 4.3514e-05\n",
      "Epoch 5/50\n",
      "603/603 [==============================] - 3s 5ms/step - loss: 4.3517e-05\n",
      "Epoch 6/50\n",
      "603/603 [==============================] - 3s 5ms/step - loss: 4.3518e-05\n",
      "Epoch 7/50\n",
      "603/603 [==============================] - 3s 5ms/step - loss: 4.3518e-05\n",
      "Epoch 8/50\n",
      "603/603 [==============================] - 3s 6ms/step - loss: 4.3520e-05\n",
      "Epoch 9/50\n",
      "603/603 [==============================] - 3s 5ms/step - loss: 4.3519e-05\n",
      "Epoch 10/50\n",
      "603/603 [==============================] - 3s 5ms/step - loss: 4.3520e-05\n",
      "Epoch 11/50\n",
      "603/603 [==============================] - 3s 5ms/step - loss: 4.3520e-05\n"
     ]
    },
    {
     "data": {
      "text/plain": [
       "<keras.src.callbacks.History at 0x2dd1e9810>"
      ]
     },
     "execution_count": 27,
     "metadata": {},
     "output_type": "execute_result"
    }
   ],
   "source": [
    "vectorizer = TfidfVectorizer(stop_words='english')\n",
    "X = vectorizer.fit_transform(dataframe['Book-Title'])\n",
    "\n",
    "X_train, X_test = train_test_split(X, test_size=0.2, random_state=1)\n",
    "\n",
    "model = Sequential([\n",
    "    Dense(64, input_dim=X_train.shape[1], activation='relu'),\n",
    "    Dense(32, activation='relu'),\n",
    "    Dense(X_train.shape[1], activation='linear')\n",
    "])\n",
    "\n",
    "earlyStopping = EarlyStopping(monitor='loss', patience=10, verbose=0, mode='min')\n",
    "\n",
    "model.compile(\n",
    "    loss='mse', \n",
    "    optimizer='adam'\n",
    ")\n",
    "\n",
    "model.fit(\n",
    "    X_train.toarray(),\n",
    "    X_train.toarray(),\n",
    "    epochs=50,\n",
    "    batch_size=32,\n",
    "    callbacks=[earlyStopping]\n",
    ")"
   ]
  },
  {
   "cell_type": "code",
   "execution_count": 28,
   "metadata": {},
   "outputs": [],
   "source": [
    "def recommend(title):\n",
    "    titleVector = vectorizer.transform([title])\n",
    "    titleVector = titleVector.toarray()\n",
    "\n",
    "    # Get the predicted vector\n",
    "    predictedVector = model.predict(titleVector)\n",
    "    predictedVector = predictedVector[0]\n",
    "\n",
    "    # Get the indices of the top 10 books\n",
    "    indices = np.argsort(predictedVector)[::-1][:10]\n",
    "\n",
    "    # Get the titles of the top 10 books\n",
    "    titles = dataframe['Book-Title'].iloc[indices]\n",
    "\n",
    "    # Print the titles\n",
    "    print(\"\\nIf you like \" + title + \", you will also like:\")\n",
    "\n",
    "    for title in titles:\n",
    "        print(title)"
   ]
  },
  {
   "cell_type": "code",
   "execution_count": 29,
   "metadata": {},
   "outputs": [
    {
     "name": "stdout",
     "output_type": "stream",
     "text": [
      "WARNING:tensorflow:5 out of the last 158 calls to <function Model.make_predict_function.<locals>.predict_function at 0x2e1153560> triggered tf.function retracing. Tracing is expensive and the excessive number of tracings could be due to (1) creating @tf.function repeatedly in a loop, (2) passing tensors with different shapes, (3) passing Python objects instead of tensors. For (1), please define your @tf.function outside of the loop. For (2), @tf.function has reduce_retracing=True option that can avoid unnecessary retracing. For (3), please refer to https://www.tensorflow.org/guide/function#controlling_retracing and https://www.tensorflow.org/api_docs/python/tf/function for  more details.\n",
      "1/1 [==============================] - 0s 35ms/step\n",
      "\n",
      "If you like The Hobbit, you will also like:\n",
      "Blue Angel\n",
      "Modelos De Mujer (ColecciÃ³n Andanzas)\n",
      "Irresistible Forc\n",
      "Bunny Runs Away (School Friends Series)\n",
      "Flynn's In (Vintage Crime/Black Lizard)\n",
      "Ottos Boy: Too Many Targets\n",
      "The First Time I Got Paid For It : Writers' Tales From The Hollywood Trenches\n",
      "Hard Aground: A Novel\n",
      "The Bug Book/Book and Bottle (Hand in Hand with Nature)\n",
      "Wind and Weather: Climates, Clouds, Snow, Tornadoes, and How Weather Is Predicted (Scholastic Voyages of Discovery. Natural History)\n"
     ]
    }
   ],
   "source": [
    "recommend(\"The Hobbit\")"
   ]
  },
  {
   "cell_type": "code",
   "execution_count": 30,
   "metadata": {},
   "outputs": [
    {
     "name": "stdout",
     "output_type": "stream",
     "text": [
      "1/1 [==============================] - 0s 10ms/step\n",
      "\n",
      "If you like The Lord of the Rings, you will also like:\n",
      "Blue Angel\n",
      "Modelos De Mujer (ColecciÃ³n Andanzas)\n",
      "Irresistible Forc\n",
      "Bunny Runs Away (School Friends Series)\n",
      "Flynn's In (Vintage Crime/Black Lizard)\n",
      "Ottos Boy: Too Many Targets\n",
      "The First Time I Got Paid For It : Writers' Tales From The Hollywood Trenches\n",
      "Hard Aground: A Novel\n",
      "The Bug Book/Book and Bottle (Hand in Hand with Nature)\n",
      "Wind and Weather: Climates, Clouds, Snow, Tornadoes, and How Weather Is Predicted (Scholastic Voyages of Discovery. Natural History)\n"
     ]
    }
   ],
   "source": [
    "recommend(\"The Lord of the Rings\")"
   ]
  }
 ],
 "metadata": {
  "kernelspec": {
   "display_name": "Python 3",
   "language": "python",
   "name": "python3"
  },
  "language_info": {
   "codemirror_mode": {
    "name": "ipython",
    "version": 3
   },
   "file_extension": ".py",
   "mimetype": "text/x-python",
   "name": "python",
   "nbconvert_exporter": "python",
   "pygments_lexer": "ipython3",
   "version": "3.11.5"
  }
 },
 "nbformat": 4,
 "nbformat_minor": 2
}
