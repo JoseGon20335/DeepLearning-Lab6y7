{
 "cells": [
  {
   "cell_type": "code",
   "execution_count": 6,
   "metadata": {},
   "outputs": [
    {
     "name": "stdout",
     "output_type": "stream",
     "text": [
      "Shape of dataframe:  (103113, 8)\n"
     ]
    },
    {
     "data": {
      "text/html": [
       "<div>\n",
       "<style scoped>\n",
       "    .dataframe tbody tr th:only-of-type {\n",
       "        vertical-align: middle;\n",
       "    }\n",
       "\n",
       "    .dataframe tbody tr th {\n",
       "        vertical-align: top;\n",
       "    }\n",
       "\n",
       "    .dataframe thead th {\n",
       "        text-align: right;\n",
       "    }\n",
       "</style>\n",
       "<table border=\"1\" class=\"dataframe\">\n",
       "  <thead>\n",
       "    <tr style=\"text-align: right;\">\n",
       "      <th></th>\n",
       "      <th>User-ID</th>\n",
       "      <th>Book-Rating</th>\n",
       "      <th>Book-Title</th>\n",
       "      <th>Book-Author</th>\n",
       "      <th>Year-Of-Publication</th>\n",
       "      <th>Publisher</th>\n",
       "      <th>Location</th>\n",
       "      <th>Age</th>\n",
       "    </tr>\n",
       "  </thead>\n",
       "  <tbody>\n",
       "    <tr>\n",
       "      <th>887470</th>\n",
       "      <td>4556</td>\n",
       "      <td>8</td>\n",
       "      <td>Abduction</td>\n",
       "      <td>Robin Cook</td>\n",
       "      <td>2000</td>\n",
       "      <td>Berkley Publishing Group</td>\n",
       "      <td>south berwick, maine, usa</td>\n",
       "      <td>34</td>\n",
       "    </tr>\n",
       "    <tr>\n",
       "      <th>56511</th>\n",
       "      <td>234623</td>\n",
       "      <td>0</td>\n",
       "      <td>Nancy Kerrigan: In My Own Words</td>\n",
       "      <td>Nancy Kerrigan</td>\n",
       "      <td>1996</td>\n",
       "      <td>Disney Pr (Jp)</td>\n",
       "      <td>scarborough, maine, usa</td>\n",
       "      <td>34</td>\n",
       "    </tr>\n",
       "    <tr>\n",
       "      <th>238538</th>\n",
       "      <td>190925</td>\n",
       "      <td>0</td>\n",
       "      <td>Bad Girl : A Novel</td>\n",
       "      <td>MICHELE JAFFE</td>\n",
       "      <td>2003</td>\n",
       "      <td>Ballantine Books</td>\n",
       "      <td>hobe sound, florida, usa</td>\n",
       "      <td>51</td>\n",
       "    </tr>\n",
       "    <tr>\n",
       "      <th>610781</th>\n",
       "      <td>56661</td>\n",
       "      <td>0</td>\n",
       "      <td>The Joy Luck Club</td>\n",
       "      <td>Amy Tan</td>\n",
       "      <td>1994</td>\n",
       "      <td>Prentice Hall (K-12)</td>\n",
       "      <td>green, ohio, usa</td>\n",
       "      <td>34</td>\n",
       "    </tr>\n",
       "    <tr>\n",
       "      <th>179676</th>\n",
       "      <td>56856</td>\n",
       "      <td>0</td>\n",
       "      <td>The Pleasure of My Company: A Novel</td>\n",
       "      <td>Steve Martin</td>\n",
       "      <td>2003</td>\n",
       "      <td>Hyperion</td>\n",
       "      <td>escondido, california, usa</td>\n",
       "      <td>23</td>\n",
       "    </tr>\n",
       "  </tbody>\n",
       "</table>\n",
       "</div>"
      ],
      "text/plain": [
       "        User-ID  Book-Rating                           Book-Title  \\\n",
       "887470     4556            8                            Abduction   \n",
       "56511    234623            0      Nancy Kerrigan: In My Own Words   \n",
       "238538   190925            0                   Bad Girl : A Novel   \n",
       "610781    56661            0                    The Joy Luck Club   \n",
       "179676    56856            0  The Pleasure of My Company: A Novel   \n",
       "\n",
       "           Book-Author  Year-Of-Publication                 Publisher  \\\n",
       "887470      Robin Cook                 2000  Berkley Publishing Group   \n",
       "56511   Nancy Kerrigan                 1996            Disney Pr (Jp)   \n",
       "238538   MICHELE JAFFE                 2003          Ballantine Books   \n",
       "610781         Amy Tan                 1994      Prentice Hall (K-12)   \n",
       "179676    Steve Martin                 2003                  Hyperion   \n",
       "\n",
       "                          Location  Age  \n",
       "887470   south berwick, maine, usa   34  \n",
       "56511      scarborough, maine, usa   34  \n",
       "238538    hobe sound, florida, usa   51  \n",
       "610781            green, ohio, usa   34  \n",
       "179676  escondido, california, usa   23  "
      ]
     },
     "execution_count": 6,
     "metadata": {},
     "output_type": "execute_result"
    }
   ],
   "source": [
    "import pandas as pd\n",
    "import numpy as np\n",
    "from tensorflow.keras.layers import Dense, Input, Flatten, Embedding, Concatenate\n",
    "from tensorflow.keras.models import Model\n",
    "from keras.callbacks import EarlyStopping\n",
    "from sklearn.preprocessing import LabelEncoder\n",
    "\n",
    "\n",
    "dataframe = pd.read_csv('data/processed.csv')\n",
    "\n",
    "dataframe = dataframe.sample(frac=0.1, random_state=1)\n",
    "\n",
    "print(\"Shape of dataframe: \", dataframe.shape)\n",
    "dataframe.head()"
   ]
  },
  {
   "cell_type": "code",
   "execution_count": 7,
   "metadata": {},
   "outputs": [],
   "source": [
    "nUsers = dataframe['User-ID'].nunique()\n",
    "nBooks = dataframe['Book-Title'].nunique()"
   ]
  },
  {
   "cell_type": "code",
   "execution_count": 8,
   "metadata": {},
   "outputs": [],
   "source": [
    "userInput = Input(shape=(1,))\n",
    "userEmbedding = Embedding(input_dim=nUsers, output_dim=32)(userInput)\n",
    "userVector = Flatten()(userEmbedding)\n",
    "userOutput = Dense(1)(userVector)\n",
    "\n",
    "bookInput = Input(shape=(1,))\n",
    "bookEmbedding = Embedding(input_dim=nBooks, output_dim=32)(bookInput)\n",
    "bookVector = Flatten()(bookEmbedding)\n",
    "bookOutput = Dense(1)(bookVector)\n",
    "\n",
    "concatenate = Concatenate()([userVector, bookVector])\n",
    "\n",
    "dense = Dense(128, activation='relu')(concatenate)\n",
    "output = Dense(1)(dense)"
   ]
  },
  {
   "cell_type": "code",
   "execution_count": 9,
   "metadata": {},
   "outputs": [],
   "source": [
    "model = Model([userInput, bookInput], output)\n",
    "model.compile(loss='mean_squared_error', optimizer='adam')\n",
    "\n",
    "early_stopping = EarlyStopping(monitor='val_loss', patience=2, verbose=1)"
   ]
  },
  {
   "cell_type": "code",
   "execution_count": 10,
   "metadata": {},
   "outputs": [
    {
     "name": "stdout",
     "output_type": "stream",
     "text": [
      "Epoch 1/5\n",
      "3223/3223 [==============================] - 20s 6ms/step - loss: 790768960.0000\n",
      "Epoch 2/5\n",
      "3223/3223 [==============================] - 20s 6ms/step - loss: 301254880.0000\n",
      "Epoch 3/5\n",
      "3223/3223 [==============================] - 19s 6ms/step - loss: 132368184.0000\n",
      "Epoch 4/5\n",
      "3223/3223 [==============================] - 19s 6ms/step - loss: 52525640.0000\n",
      "Epoch 5/5\n",
      "3223/3223 [==============================] - 19s 6ms/step - loss: 20789404.0000\n"
     ]
    },
    {
     "data": {
      "text/plain": [
       "<keras.src.callbacks.History at 0x17b06add0>"
      ]
     },
     "execution_count": 10,
     "metadata": {},
     "output_type": "execute_result"
    }
   ],
   "source": [
    "userEncoder = LabelEncoder()\n",
    "userIDs = userEncoder.fit_transform(dataframe['User-ID'].values)\n",
    "\n",
    "bookEncoder = LabelEncoder()\n",
    "bookIDs = bookEncoder.fit_transform(dataframe['Book-Title'].values)\n",
    "\n",
    "model.fit([userIDs, bookIDs], bookIDs, epochs=5, verbose=1)"
   ]
  },
  {
   "cell_type": "code",
   "execution_count": 11,
   "metadata": {},
   "outputs": [
    {
     "name": "stdout",
     "output_type": "stream",
     "text": [
      "3223/3223 [==============================] - 1s 392us/step\n",
      "\n",
      "Recommendations for user:  276747\n",
      "['Yonder : A Place in Montana']\n",
      "['Words I Wish I Wrote: A Collection of Writing That Inspired My Ideas']\n",
      "['Whispers at Midnight']\n",
      "[\"ZACHARY'S WINGS: A Novel\"]\n",
      "['Zigzag Street ;']\n",
      "['\\\\Girls\\' Night Out\\\\\"/\\\\\"Boys\\' Night In\\\\\"\"']\n",
      "[\"Winter's Tale\"]\n",
      "['Wild Life']\n",
      "['Wlt: A Radio Romance']\n",
      "['When the Emperor Was Divine']\n"
     ]
    }
   ],
   "source": [
    "def recommend(userID, n):\n",
    "    books = dataframe.copy()\n",
    "    books['User-ID'] = userID\n",
    "    books['User-ID'] = userEncoder.transform(books['User-ID'])\n",
    "    books['Book-Title'] = bookEncoder.transform(books['Book-Title'])\n",
    "\n",
    "    predictions = model.predict([books['User-ID'], books['Book-Title']])\n",
    "    books['prediction'] = predictions\n",
    "    books = books.drop_duplicates(subset=['Book-Title'])\n",
    "    books = books.sort_values(by='prediction', ascending=False)\n",
    "    bookTitles = books['Book-Title'].head(n).values\n",
    "\n",
    "    print(\"\\nRecommendations for user: \", userID)\n",
    "\n",
    "    for i in range(n):\n",
    "        print(bookEncoder.inverse_transform([bookTitles[i]]))\n",
    "\n",
    "recommend(276747, 10)"
   ]
  }
 ],
 "metadata": {
  "kernelspec": {
   "display_name": "Python 3",
   "language": "python",
   "name": "python3"
  },
  "language_info": {
   "codemirror_mode": {
    "name": "ipython",
    "version": 3
   },
   "file_extension": ".py",
   "mimetype": "text/x-python",
   "name": "python",
   "nbconvert_exporter": "python",
   "pygments_lexer": "ipython3",
   "version": "3.11.5"
  }
 },
 "nbformat": 4,
 "nbformat_minor": 2
}
